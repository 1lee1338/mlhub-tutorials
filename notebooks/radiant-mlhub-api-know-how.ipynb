{
 "cells": [
  {
   "cell_type": "markdown",
   "metadata": {},
   "source": [
    "<img src='https://radiant-assets.s3-us-west-2.amazonaws.com/PrimaryRadiantMLHubLogo.png' alt='Radiant MLHub Logo' width='300'/>\n",
    "\n",
    "How to use the Radiant MLHub API\n",
    "=====\n",
    "\n",
    "The Radiant MLHub API gives access to open Earth imagery training data for machine learning applications. You can learn more about the repository at the [Radiant MLHub site](https://mlhub.earth) and about the organization behind it at the [Radiant Earth Foundation site](https://radiant.earth).\n",
    "\n",
    "This Jupyter notebook, which you may copy and adapt for any use, shows basic examples of how to use the API. Full documentation for the API is available at [docs.mlhub.earth](docs.mlhub.earth).\n",
    "\n",
    "We'll show you how to set up your authorization, see the list of available collections and datasets, and retrieve the items (the data contained within them) from those collections. \n",
    "\n",
    "Each item in our collection is explained in json format compliant with [STAC](https://stacspec.org/) [label extension](https://github.com/radiantearth/stac-spec/tree/master/extensions/label) definition."
   ]
  },
  {
   "cell_type": "markdown",
   "metadata": {},
   "source": [
    "Authentication\n",
    "-----\n",
    "\n",
    "Access to the Radiant MLHub API requires an API key. To get your API key, go to [dashboard.mlhub.earth](https://dashboard.mlhub.earth). If you have not used Radiant MLHub before, you will need to sign up and create a new account. Otherwise, sign in. In the **API Keys** tab, you'll be able to create API key, which you will need. *Do not share* your API key with others: your usage may be limited and sharing your API key is a security risk.\n",
    "\n",
    "Copy the API key, and paste it in the box bellow.\n",
    "\n",
    "Click **Run** or press `SHIFT` + `ENTER` before moving on to run this first piece of code."
   ]
  },
  {
   "cell_type": "code",
   "execution_count": null,
   "metadata": {},
   "outputs": [],
   "source": [
    "# only the requests module is required to access the API\n",
    "import requests\n",
    "\n",
    "# copy your API key from dashboard.mlhub.earth and paste it in the following\n",
    "API_KEY = 'PASTE_YOUR_API_KEY_HERE'\n",
    "API_BASE = 'https://api.radiant.earth/mlhub/v1'"
   ]
  },
  {
   "cell_type": "markdown",
   "metadata": {},
   "source": [
    "Search for data collections\n",
    "-----\n",
    "\n",
    "To see what training data is available, you will want to see the collections available through the API.\n",
    "\n",
    "A collection represents the top-most data level. Typically this means the data comes from the same source for the same geography. It might include different years or sub-geographies.\n",
    "\n",
    "To find data with specific parameters, see the [API documentation](http://docs.mlhub.earth/?python#the-feature-collections-in-the-dataset).\n",
    "\n",
    "To see the list, simply run the following cell. The returned list shows the collection id values, collection license, and data source citation (if available)."
   ]
  },
  {
   "cell_type": "code",
   "execution_count": null,
   "metadata": {},
   "outputs": [],
   "source": [
    "# get list of all collections\n",
    "r = requests.get(f'{API_BASE}/collections?key={API_KEY}')\n",
    "h = r.json()\n",
    "collections = h['collections']\n",
    "\n",
    "# print the list of collections \n",
    "for c in collections:\n",
    "    print(f'ID:       {c[\"id\"]}\\nLicense:  {c.get(\"license\", \"N/A\")}\\nCitation: {c.get(\"sci:citation\", \"N/A\")}\\n')"
   ]
  },
  {
   "cell_type": "markdown",
   "metadata": {},
   "source": [
    "Retrieve properties of a collection\n",
    "----\n",
    "\n",
    "Once you have found the collection that you want to access, you can get its properties from the API.\n",
    "\n",
    "You can  limit what data you get in the response using the optional parameters:\n",
    "* **Limit** limits how many items will be returned, with a minimum of 1 and maximum of 10000.\n",
    "* **Bounding box** limits the returned items to a specific geographic area. \n",
    "* **Date time** limits the returned items to those that fall within a specific time-frame.\n",
    "\n",
    "See the [get features](http://docs.mlhub.earth/#getfeatures) API documentation for more information.\n",
    "\n",
    "Paste the collection id below for `collectionId`, and enter any desired parameters, then run the cell."
   ]
  },
  {
   "cell_type": "code",
   "execution_count": null,
   "metadata": {
    "scrolled": true
   },
   "outputs": [],
   "source": [
    "# paste the id of the collection you are interested in here:\n",
    "collectionId = 'ref_african_crops_kenya_01_labels'\n",
    "\n",
    "# retrieves the items and their metadata in the collection\n",
    "r = requests.get(f'{API_BASE}/collections/{collectionId}/items?key={API_KEY}')\n",
    "collection = r.json()"
   ]
  },
  {
   "cell_type": "markdown",
   "metadata": {},
   "source": [
    "Selecting an Item to Download\n",
    "---\n",
    "\n",
    "For the purposes of this demo we will only download the assets of one item. The next cell selects the first item in the collection. If you wish to download the assets for all of the items in the collection then the following cells should be repeated for every item in the collection.\n"
   ]
  },
  {
   "cell_type": "code",
   "execution_count": null,
   "metadata": {},
   "outputs": [],
   "source": [
    "selected_item = None\n",
    "assets = None\n",
    "for feature in collection.get('features', []):\n",
    "    selected_item = feature\n",
    "    assets = list(feature.get('assets').keys())\n",
    "    # For demo purposes we only want the first item\n",
    "    break"
   ]
  },
  {
   "cell_type": "markdown",
   "metadata": {},
   "source": [
    "Listing Available Assets\n",
    "---\n",
    "\n",
    "Source imagery assets follow the pattern `year_month_day_type` so we'll loop through the list of assets and only print the ones which don't match that pattern."
   ]
  },
  {
   "cell_type": "code",
   "execution_count": null,
   "metadata": {},
   "outputs": [],
   "source": [
    "import re\n",
    "\n",
    "# List all assets which don't match the pattern \"year_month_day_*\"\n",
    "for asset in assets:\n",
    "    if not re.match('\\d{4}_\\d{2}_\\d{2}_.*', asset):\n",
    "        print(asset)"
   ]
  },
  {
   "cell_type": "markdown",
   "metadata": {},
   "source": [
    "As you can see, there are 3 assets which match this criteria: `labels`, `documentation`, and `property descriptions`.\n",
    "\n",
    "Downloading Assets\n",
    "---\n",
    "We'll need to set up some functions to download assets first."
   ]
  },
  {
   "cell_type": "code",
   "execution_count": null,
   "metadata": {},
   "outputs": [],
   "source": [
    "from urllib.parse import urlparse\n",
    "\n",
    "def get_download_url(item, asset_key):\n",
    "    asset = item.get('assets', {}).get(asset_key, None)\n",
    "    if asset is None:\n",
    "        print(f'Asset \"{asset_key}\" does not exist in this item')\n",
    "        return None\n",
    "    r = requests.get(asset.get('href'), allow_redirects=False)\n",
    "    return r.headers.get('Location')\n",
    "\n",
    "def download_file(url):\n",
    "    filename = urlparse(url).path.split('/')[-1]\n",
    "    r = requests.get(url)\n",
    "    f = open(filename, 'wb')\n",
    "    for chunk in r.iter_content(chunk_size=512 * 1024): \n",
    "        if chunk:\n",
    "            f.write(chunk)\n",
    "    f.close()\n",
    "    print(f'Downloaded {filename}')\n",
    "    return "
   ]
  },
  {
   "cell_type": "markdown",
   "metadata": {},
   "source": [
    "Downloading Labels\n",
    "---\n",
    "\n",
    "We can download the `labels` asset of the `selected_item` by calling the following function: "
   ]
  },
  {
   "cell_type": "code",
   "execution_count": null,
   "metadata": {},
   "outputs": [],
   "source": [
    "download_file(get_download_url(selected_item, 'labels'))"
   ]
  },
  {
   "cell_type": "markdown",
   "metadata": {},
   "source": [
    "Downloading Metadata\n",
    "---\n",
    "\n",
    "Likewise, we can download the documentation pdf and property description csv."
   ]
  },
  {
   "cell_type": "code",
   "execution_count": null,
   "metadata": {},
   "outputs": [],
   "source": [
    "download_file(get_download_url(selected_item, 'documentation'))\n",
    "download_file(get_download_url(selected_item, 'property_descriptions'))"
   ]
  },
  {
   "cell_type": "markdown",
   "metadata": {},
   "source": [
    "Downloading Source Imagery\n",
    "---\n",
    "\n",
    "For this example, we'll query the API for the download url for three bands of a Sentinel 2 scene associated with this asset."
   ]
  },
  {
   "cell_type": "code",
   "execution_count": null,
   "metadata": {},
   "outputs": [],
   "source": [
    "for link in selected_item['links']:\n",
    "    if link['rel'] == 'source':\n",
    "        r = requests.get(f'{link[\"href\"]}?key={API_KEY}')\n",
    "        source_item = r.json()\n",
    "        break\n",
    "download_file(get_download_url(source_item, 'B01'))\n",
    "download_file(get_download_url(source_item, 'B02'))\n",
    "download_file(get_download_url(source_item, 'B03'))"
   ]
  },
  {
   "cell_type": "code",
   "execution_count": null,
   "metadata": {},
   "outputs": [],
   "source": []
  }
 ],
 "metadata": {
  "kernelspec": {
   "display_name": "Python 3",
   "language": "python",
   "name": "python3"
  },
  "language_info": {
   "codemirror_mode": {
    "name": "ipython",
    "version": 3
   },
   "file_extension": ".py",
   "mimetype": "text/x-python",
   "name": "python",
   "nbconvert_exporter": "python",
   "pygments_lexer": "ipython3",
   "version": "3.8.6"
  }
 },
 "nbformat": 4,
 "nbformat_minor": 4
}
